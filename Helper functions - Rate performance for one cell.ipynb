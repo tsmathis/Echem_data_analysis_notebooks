{
 "cells": [
  {
   "cell_type": "code",
   "execution_count": 1,
   "id": "8621fbb1",
   "metadata": {},
   "outputs": [],
   "source": [
    "import numpy as np\n",
    "import pandas as pd\n",
    "import matplotlib.pyplot as plt\n",
    "import matplotlib.ticker as mticker\n",
    "import glob\n",
    "from ipywidgets import widgets\n",
    "from ipywidgets import Button, HBox, VBox, Text, interactive_output"
   ]
  },
  {
   "cell_type": "code",
   "execution_count": 46,
   "id": "e67e3d1f",
   "metadata": {
    "code_folding": [
     0
    ]
   },
   "outputs": [],
   "source": [
    "markers = ['o']\n",
    "normalization_options = ['Specific Capacitance (F/g)', 'Specific Capacity (mAh/g)', 'Specific Charge (C/g)', \n",
    "                         'Volumetric Capacitance (F/cm$^3$)', 'Volumetric Capacity (mAh/cm$^3$)',\n",
    "                         'Volumetric Charge (C/cm$^3$)', 'Areal Capacitance (F/cm$^2$)', \n",
    "                         'Areal Capacity (mAh/cm$^2$)', 'Areal Charge (C/cm$^2$)']"
   ]
  },
  {
   "cell_type": "markdown",
   "id": "66336b50",
   "metadata": {},
   "source": [
    "# Reading in files/pretreating data"
   ]
  },
  {
   "cell_type": "code",
   "execution_count": 41,
   "id": "ab903643",
   "metadata": {
    "code_folding": []
   },
   "outputs": [],
   "source": [
    "# Enter path to folder containing your data in quotes followed by /*. Should match \"your_path/*\"\n",
    "file_list = glob.glob('E:/2022_03_11/text/*')\n",
    "file_list.sort()"
   ]
  },
  {
   "cell_type": "code",
   "execution_count": 42,
   "id": "fb79a37a",
   "metadata": {},
   "outputs": [],
   "source": [
    "# Enter your scan rates as a comma separated list in the square brackets, e.g., [5, 10, 20, 50, 100]\n",
    "scan_rates = [0.1, 0.5, 1.0, 2.0, 5.0]"
   ]
  },
  {
   "cell_type": "code",
   "execution_count": 89,
   "id": "eadc670e",
   "metadata": {},
   "outputs": [],
   "source": [
    "# Replace 'None' with your values. Okay to leave as 'None' if you don't have a value.\n",
    "electrode_mass = 1.49 #in mg\n",
    "electrode_area = 1.13 #in cm^2\n",
    "electrode_volume = 0.7 #in cm^3"
   ]
  },
  {
   "cell_type": "markdown",
   "id": "33ffcf42",
   "metadata": {},
   "source": [
    "# BioLogic rate performance"
   ]
  },
  {
   "cell_type": "code",
   "execution_count": 102,
   "id": "606f2b1f",
   "metadata": {
    "code_folding": [
     0
    ]
   },
   "outputs": [],
   "source": [
    "def rate_performance(file_list):\n",
    "    '''\n",
    "    Calculates average capacitance, capacity, and charge (and error values) \n",
    "    for a series of scan rates.Returns a plot of average capacitance with \n",
    "    error bars versus scan rate.\n",
    "    '''\n",
    "    potential_window = 0\n",
    "    \n",
    "    charge = np.empty(len(scan_rates))\n",
    "    charge_err = np.empty(len(scan_rates))\n",
    "    \n",
    "    discharge = np.empty(len(scan_rates))\n",
    "    discharge_err = np.empty(len(scan_rates))\n",
    "    \n",
    "    ce = np.empty(len(scan_rates))\n",
    "    ce_err = np.empty(len(scan_rates))\n",
    "    \n",
    "    for idx, file in enumerate(file_list):\n",
    "        with open(file, 'r') as f:\n",
    "            data = pd.read_table(f)\n",
    "            \n",
    "            if potential_window == 0:\n",
    "                potential_window += (max(data['Ewe/V']) - min(data['Ewe/V']))\n",
    "\n",
    "            cycle_number = data['cycle number'].unique()\n",
    "  \n",
    "            charge_list = []\n",
    "            charge_data = data[data['<I>/mA'] > 0]\n",
    "            for n in cycle_number[1:-1]:\n",
    "                charge_list.append(\n",
    "                    np.trapz(\n",
    "                    charge_data['<I>/mA'][charge_data['cycle number'] == n], \n",
    "                    charge_data['time/s'][charge_data['cycle number'] == n]\n",
    "                    )\n",
    "                )\n",
    "                \n",
    "            charge[idx] = np.mean(charge_list)\n",
    "            charge_err[idx] = np.std(charge_list)\n",
    "\n",
    "            discharge_list = []\n",
    "            discharge_data = data[data['<I>/mA'] < 0]\n",
    "            for n in cycle_number[1:-1]:\n",
    "                discharge_list.append(\n",
    "                    np.trapz(\n",
    "                    discharge_data['<I>/mA'][discharge_data['cycle number'] == n], \n",
    "                    discharge_data['time/s'][discharge_data['cycle number'] == n]\n",
    "                    )\n",
    "                )\n",
    "                \n",
    "            discharge[idx] = np.abs(np.mean(discharge_list))\n",
    "            discharge_err[idx] = np.abs(np.std(discharge_list))\n",
    "            \n",
    "            ce[idx] = np.mean([i / j for i, j in zip(np.abs(discharge_list), charge_list)])\n",
    "            ce_err[idx] = np.std([i / j for i, j in zip(np.abs(discharge_list), charge_list)])\n",
    "            \n",
    "    return charge, discharge, charge_err, discharge_err, ce, ce_err, potential_window"
   ]
  },
  {
   "cell_type": "code",
   "execution_count": 103,
   "id": "f671c125",
   "metadata": {},
   "outputs": [],
   "source": [
    "charge, discharge, charge_err, discharge_err, ce, ce_err, potential_window = rate_performance(file_list=file_list)"
   ]
  },
  {
   "cell_type": "code",
   "execution_count": 157,
   "id": "dad8e5e9",
   "metadata": {
    "code_folding": [
     0
    ],
    "scrolled": true
   },
   "outputs": [],
   "source": [
    "def plot_rate_perf(yaxis, markers, c_e=False):\n",
    "    \n",
    "    global fig\n",
    "    \n",
    "    fig, ax = plt.subplots(figsize=(6, 6), dpi=150)\n",
    "        \n",
    "    if 'Capacitance' in yaxis:\n",
    "        capacitance = charge / potential_window\n",
    "        capacitance_err = charge_err / potential_window\n",
    "        dis_capacitance = discharge / potential_window\n",
    "        dis_capacitance_err = discharge_err / potential_window\n",
    "        \n",
    "        if 'Specific' in yaxis:\n",
    "            capacitance = capacitance / electrode_mass\n",
    "            capacitance_err = capacitance_err / electrode_mass\n",
    "            dis_capacitance = dis_capacitance / electrode_mass\n",
    "            dis_capacitance_err = dis_capacitance_err / electrode_mass\n",
    "        \n",
    "        elif 'Volumetric' in yaxis:\n",
    "            capacitance = capacitance / (electrode_volume * 1000)\n",
    "            capacitance_err = capacitance_err / (electrode_volume * 1000)\n",
    "            dis_capacitance = dis_capacitance / (electrode_volume * 1000)\n",
    "            dis_capacitance_err = dis_capacitance_err / (electrode_volume * 1000)\n",
    "            \n",
    "        elif 'Areal' in yaxis:\n",
    "            capacitance = capacitance / (electrode_area * 1000)\n",
    "            capacitance_err = capacitance_err / (electrode_area * 1000)\n",
    "            dis_capacitance = dis_capacitance / (electrode_area * 1000)\n",
    "            dis_capacitance_err = dis_capacitance_err / (electrode_area * 1000)\n",
    "            \n",
    "        ax.errorbar(scan_rates, capacitance, yerr=capacitance_err,\n",
    "                    label='Charge',\n",
    "                    marker=markers, \n",
    "                    markersize=12,\n",
    "                    color='red', \n",
    "                    capsize=5,\n",
    "                    capthick=2\n",
    "                   )\n",
    "    \n",
    "        ax.errorbar(scan_rates, dis_capacitance, yerr=dis_capacitance_err,\n",
    "                    label='Discharge',\n",
    "                    marker=markers,\n",
    "                    markersize=12,\n",
    "                    color='blue',\n",
    "                    capsize=5,\n",
    "                    capthick=2\n",
    "                   )            \n",
    "    \n",
    "    elif \"Capacity\" in yaxis:\n",
    "        capacity = charge / 3600\n",
    "        capacity_err = charge_err / 3600\n",
    "        dis_capacity = discharge / 3600\n",
    "        dis_capacity_err = discharge_err / 3600\n",
    "        \n",
    "        if 'Specific' in yaxis:\n",
    "            capacity = (capacity * 1000) / electrode_mass\n",
    "            capacity_err = (capacity_err * 1000) / electrode_mass\n",
    "            dis_capacity = (dis_capacity * 1000) / electrode_mass\n",
    "            dis_capacity_err = (dis_capacity_err * 1000) / electrode_mass\n",
    "        \n",
    "        elif 'Volumetric' in yaxis:\n",
    "            capacity = capacity / electrode_volume\n",
    "            capacity_err = capacity_err / electrode_volume\n",
    "            dis_capacity = dis_capacity / electrode_volume\n",
    "            dis_capacity_err = dis_capacity_err / electrode_volume\n",
    "        \n",
    "        elif 'Areal' in yaxis:\n",
    "            capacity = capacity / electrode_area\n",
    "            capacity_err = capacity_err / electrode_area\n",
    "            dis_capacity = dis_capacity / electrode_area\n",
    "            dis_capacity_err = dis_capacity_err / electrode_area\n",
    "            \n",
    "        ax.errorbar(scan_rates, capacity, yerr=capacity_err,\n",
    "                    label='Charge',\n",
    "                    marker=markers, \n",
    "                    markersize=12,\n",
    "                    color='red', \n",
    "                    capsize=5,\n",
    "                    capthick=2\n",
    "                           )\n",
    "    \n",
    "        ax.errorbar(scan_rates, dis_capacity, yerr=dis_capacity_err,\n",
    "                    label='Discharge',\n",
    "                    marker=markers,\n",
    "                    markersize=12,\n",
    "                    color='blue',\n",
    "                    capsize=5,\n",
    "                    capthick=2\n",
    "                   ) \n",
    "            \n",
    "    elif 'Charge' in yaxis:\n",
    "        coulombs = charge / 1000\n",
    "        coulombs_err = charge_err / 1000\n",
    "        dis_coulombs = discharge / 1000\n",
    "        dis_coulombs_err = discharge_err / 1000\n",
    "        \n",
    "        if 'Specific' in yaxis:\n",
    "            coulombs = (coulombs * 1000) / electrode_mass\n",
    "            coulombs_err = (coulombs_err * 1000) / electrode_mass\n",
    "            dis_coulombs = (dis_coulombs * 1000) / electrode_mass\n",
    "            dis_coulombs_err = (dis_coulombs_err * 1000) / electrode_mass\n",
    "        \n",
    "        elif 'Volumetric' in yaxis:\n",
    "            coulombs = coulombs / electrode_volume\n",
    "            coulombs_err = coulombs_err / electrode_volume\n",
    "            dis_coulombs = dis_coulombs / electrode_volume\n",
    "            dis_coulombs_err = dis_coulombs_err / electrode_volume\n",
    "        \n",
    "        elif 'Areal' in yaxis:\n",
    "            coulombs = coulombs / electrode_area\n",
    "            coulombs_err = coulombs_err / electrode_area\n",
    "            dis_coulombs = dis_coulombs / electrode_area\n",
    "            dis_coulombs_err = dis_coulombs_err / electrode_area\n",
    "            \n",
    "        ax.errorbar(scan_rates, coulombs, yerr=coulombs_err,\n",
    "                    label='Charge',\n",
    "                    marker=markers, \n",
    "                    markersize=12,\n",
    "                    color='red', \n",
    "                    capsize=5,\n",
    "                    capthick=2\n",
    "                           )\n",
    "    \n",
    "        ax.errorbar(scan_rates, dis_coulombs, yerr=dis_coulombs_err,\n",
    "                    label='Discharge',\n",
    "                    marker=markers,\n",
    "                    markersize=12,\n",
    "                    color='blue',\n",
    "                    capsize=5,\n",
    "                    capthick=2\n",
    "                   ) \n",
    "   \n",
    "\n",
    "\n",
    "    if c_e:\n",
    "        ax2 = ax.twinx()\n",
    "        ax2.errorbar(scan_rates, ce * 100, yerr=ce_err * 100,\n",
    "                label='Charge',\n",
    "                marker=markers, \n",
    "                markersize=12,\n",
    "                color='red', \n",
    "                capsize=5,\n",
    "                capthick=2\n",
    "                       )\n",
    "\n",
    "    ax.set_xlabel('Scan rate (mV/s)', fontsize=24)\n",
    "    ax.set_ylabel(yaxis, fontsize=24)\n",
    "    ax.tick_params(which='both', labelsize=18, width=2, length=5)\n",
    "    ax.set_xscale('log')\n",
    "#     ax.set_ylim(0, max(discharge) * 1.1)\n",
    "    ax.xaxis.set_major_formatter(mticker.ScalarFormatter())\n",
    "    ax.xaxis.get_major_formatter().set_scientific(False)"
   ]
  },
  {
   "cell_type": "code",
   "execution_count": 151,
   "id": "0af7ec75",
   "metadata": {
    "code_folding": [
     0
    ]
   },
   "outputs": [],
   "source": [
    "def make_figure():\n",
    "    '''\n",
    "    Generates interactive figure using the plot_CVs_biologic function.\n",
    "    '''\n",
    "    yaxis_choice = widgets.Dropdown(options=normalization_options)\n",
    "    marker_choice = widgets.Dropdown(options=markers)\n",
    "    c_e = widgets.Checkbox(description='Coulombic Efficiency', indent=False)\n",
    "    def on_button_clicked(b):\n",
    "        fig.savefig(\"test.png\")\n",
    "\n",
    "    button = Button(description=\"Save Figure\")\n",
    "    button.on_click(on_button_clicked)\n",
    "\n",
    "    ui = HBox([yaxis_choice, marker_choice, c_e, button])\n",
    "\n",
    "    out = widgets.interactive_output(plot_rate_perf, {'yaxis': yaxis_choice, 'markers': marker_choice, 'c_e': c_e})\n",
    "    display(ui, out)"
   ]
  },
  {
   "cell_type": "code",
   "execution_count": 158,
   "id": "9116f083",
   "metadata": {},
   "outputs": [
    {
     "data": {
      "application/vnd.jupyter.widget-view+json": {
       "model_id": "d5c9da9b85c341e1ad3088f034de4f7c",
       "version_major": 2,
       "version_minor": 0
      },
      "text/plain": [
       "HBox(children=(Dropdown(options=('Specific Capacitance (F/g)', 'Specific Capacity (mAh/g)', 'Specific Charge (…"
      ]
     },
     "metadata": {},
     "output_type": "display_data"
    },
    {
     "data": {
      "application/vnd.jupyter.widget-view+json": {
       "model_id": "fef4c0dd23de4e08827d71d0130bfb43",
       "version_major": 2,
       "version_minor": 0
      },
      "text/plain": [
       "Output()"
      ]
     },
     "metadata": {},
     "output_type": "display_data"
    }
   ],
   "source": [
    "make_figure()"
   ]
  },
  {
   "cell_type": "code",
   "execution_count": null,
   "id": "170698c1",
   "metadata": {},
   "outputs": [],
   "source": []
  }
 ],
 "metadata": {
  "kernelspec": {
   "display_name": "Python 3 (ipykernel)",
   "language": "python",
   "name": "python3"
  },
  "language_info": {
   "codemirror_mode": {
    "name": "ipython",
    "version": 3
   },
   "file_extension": ".py",
   "mimetype": "text/x-python",
   "name": "python",
   "nbconvert_exporter": "python",
   "pygments_lexer": "ipython3",
   "version": "3.10.4"
  }
 },
 "nbformat": 4,
 "nbformat_minor": 5
}

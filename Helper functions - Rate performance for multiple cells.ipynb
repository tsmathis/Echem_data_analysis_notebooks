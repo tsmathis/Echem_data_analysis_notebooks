{
 "cells": [
  {
   "cell_type": "code",
   "execution_count": 1,
   "id": "8621fbb1",
   "metadata": {},
   "outputs": [],
   "source": [
    "import numpy as np\n",
    "import pandas as pd\n",
    "from scipy import integrate\n",
    "import matplotlib.pyplot as plt\n",
    "import matplotlib.ticker as mticker\n",
    "from matplotlib.path import Path\n",
    "from matplotlib.patches import PathPatch\n",
    "import glob"
   ]
  },
  {
   "cell_type": "markdown",
   "id": "66336b50",
   "metadata": {},
   "source": [
    "# Reading in files/pretreating data"
   ]
  },
  {
   "cell_type": "code",
   "execution_count": 2,
   "id": "b1dde5e8",
   "metadata": {},
   "outputs": [],
   "source": [
    "file_list = []"
   ]
  },
  {
   "cell_type": "code",
   "execution_count": 3,
   "id": "5ea59ebe",
   "metadata": {},
   "outputs": [],
   "source": [
    "scan_rates = []"
   ]
  },
  {
   "cell_type": "code",
   "execution_count": 4,
   "id": "1318e659",
   "metadata": {},
   "outputs": [],
   "source": [
    "electrode_mass = []"
   ]
  },
  {
   "cell_type": "markdown",
   "id": "33ffcf42",
   "metadata": {},
   "source": [
    "# BioLogic rate performance"
   ]
  },
  {
   "cell_type": "code",
   "execution_count": 5,
   "id": "dad8e5e9",
   "metadata": {
    "code_folding": [],
    "scrolled": true
   },
   "outputs": [],
   "source": [
    "def rate_performance(data, scan_rate, electrode_mass):\n",
    "    '''\n",
    "    Calculates average capacitance (and error values) for a series of scan rates.\n",
    "    Returns a plot of average capacitance with error bars versus scan rate.\n",
    "    '''\n",
    "    \n",
    "    charge = []\n",
    "    charge_error = []\n",
    "    \n",
    "    discharge = []\n",
    "    discharge_error =[]\n",
    "    \n",
    "    for file in data:\n",
    "        \n",
    "        data = pd.read_table(file)\n",
    "    \n",
    "        cycle_number = data['cycle number'].unique()\n",
    "        potential_window = max(data['Ewe/V']) - min(data['Ewe/V'])\n",
    "\n",
    "        charge_list = []\n",
    "        charge_data = data[data['<I>/mA'] > 0]\n",
    "        for n in cycle_number[1:-1]:\n",
    "            charge_cap = np.trapz(\n",
    "                charge_data['<I>/mA'][charge_data['cycle number'] == n], \n",
    "                charge_data['time/s'][charge_data['cycle number'] == n])\n",
    "            charge_list.append(charge_cap)\n",
    "        charge_cap = np.mean(np.array(charge_list)) / (electrode_mass * potential_window)\n",
    "        charge.append(charge_cap)\n",
    "        charge_error.append(np.std(np.array(charge_list)) / (electrode_mass * potential_window))\n",
    "\n",
    "        discharge_list = []\n",
    "        discharge_data = data[data['<I>/mA'] < 0]\n",
    "        for n in cycle_number[1:-1]:\n",
    "            discharge_cap = np.trapz(\n",
    "                discharge_data['<I>/mA'][discharge_data['cycle number'] == n], \n",
    "                discharge_data['time/s'][discharge_data['cycle number'] == n])\n",
    "            discharge_list.append(discharge_cap)\n",
    "        discharge_cap = np.abs(np.mean(np.array(discharge_list)) / (electrode_mass * potential_window))\n",
    "        discharge.append(discharge_cap)\n",
    "        discharge_error.append(np.abs(np.std(np.array(discharge_list))) / (electrode_mass * potential_window))\n",
    "    \n",
    "\n",
    "    fig, ax = plt.subplots(figsize=(8, 8))\n",
    "    \n",
    "    ax.errorbar(scan_rate, \n",
    "                charge, \n",
    "                yerr=charge_error,\n",
    "                label='Charge',\n",
    "                marker='o', \n",
    "                markersize=12,\n",
    "                color='red', \n",
    "                capsize=5,\n",
    "                capthick=2\n",
    "               )\n",
    "    \n",
    "    ax.errorbar(scan_rate, \n",
    "                discharge,\n",
    "                yerr=discharge_error,\n",
    "                label='Discharge',\n",
    "                marker='o',\n",
    "                markersize=12,\n",
    "                color='blue',\n",
    "                capsize=5,\n",
    "                capthick=2\n",
    "               )\n",
    "    \n",
    "    \n",
    "    ax.set_xlabel('Scan rate (mV/s)', fontsize=24)\n",
    "    ax.set_ylabel('Capacitance (F/g)', fontsize=24)\n",
    "    ax.tick_params(which='both', labelsize=18, width=2, length=5)\n",
    "    ax.set_xscale('log')\n",
    "    ax.set_ylim(0, max(discharge) * 1.1)\n",
    "    ax.xaxis.set_major_formatter(mticker.ScalarFormatter())\n",
    "    ax.xaxis.get_major_formatter().set_scientific(False)\n",
    "    \n",
    "    return fig"
   ]
  },
  {
   "cell_type": "code",
   "execution_count": 6,
   "id": "39163700",
   "metadata": {},
   "outputs": [],
   "source": [
    "data2 = pd.read_table('E:echem_test_files/Ti3C2_Fiber_sample_1_1p0M_Na2SO4_2_5_10_20_50_100_200_500_1000_2000_5000_10000_20000_50000_100000_mVs_03_CVA_C06.txt')"
   ]
  },
  {
   "cell_type": "code",
   "execution_count": 7,
   "id": "d4b5fbc1",
   "metadata": {},
   "outputs": [],
   "source": [
    "file_list = glob.glob('E:echem_test_files/Ti3C2*')"
   ]
  },
  {
   "cell_type": "code",
   "execution_count": 8,
   "id": "d640605b",
   "metadata": {},
   "outputs": [],
   "source": [
    "file_list.sort()"
   ]
  },
  {
   "cell_type": "code",
   "execution_count": 9,
   "id": "2dfea54a",
   "metadata": {},
   "outputs": [
    {
     "data": {
      "text/plain": [
       "'E:echem_test_files\\\\Ti3C2_Fiber_sample_1_1p0M_Na2SO4_2_5_10_20_50_100_200_500_1000_2000_5000_10000_20000_50000_100000_mVs_04_CVA_C06.txt'"
      ]
     },
     "execution_count": 9,
     "metadata": {},
     "output_type": "execute_result"
    }
   ],
   "source": [
    "file_list[3]"
   ]
  },
  {
   "cell_type": "code",
   "execution_count": 10,
   "id": "e79c7ccb",
   "metadata": {},
   "outputs": [],
   "source": [
    "scan_rates = [2, 5, 10, 20, 50, 100, 200, 500, 1000]"
   ]
  },
  {
   "cell_type": "code",
   "execution_count": 11,
   "id": "f671c125",
   "metadata": {},
   "outputs": [
    {
     "data": {
      "image/png": "[encoded data removed]",
      "text/plain": [
       "<Figure size 576x576 with 1 Axes>"
      ]
     },
     "metadata": {
      "needs_background": "light"
     },
     "output_type": "display_data"
    }
   ],
   "source": [
    "rate_perf = rate_performance(data=file_list, scan_rate=scan_rates, electrode_mass=0.070)"
   ]
  },
  {
   "cell_type": "code",
   "execution_count": null,
   "id": "5214c870",
   "metadata": {},
   "outputs": [],
   "source": []
  }
 ],
 "metadata": {
  "kernelspec": {
   "display_name": "Python 3 (ipykernel)",
   "language": "python",
   "name": "python3"
  },
  "language_info": {
   "codemirror_mode": {
    "name": "ipython",
    "version": 3
   },
   "file_extension": ".py",
   "mimetype": "text/x-python",
   "name": "python",
   "nbconvert_exporter": "python",
   "pygments_lexer": "ipython3",
   "version": "3.10.4"
  }
 },
 "nbformat": 4,
 "nbformat_minor": 5
}

{
 "cells": [
  {
   "cell_type": "markdown",
   "id": "2b07764f",
   "metadata": {},
   "source": [
    "# Processing cyclic voltammograms from one file set"
   ]
  },
  {
   "cell_type": "markdown",
   "id": "88624858",
   "metadata": {},
   "source": [
    "## LIbrary imports and some default values for plotting"
   ]
  },
  {
   "cell_type": "code",
   "execution_count": null,
   "id": "8621fbb1",
   "metadata": {},
   "outputs": [],
   "source": [
    "import numpy as np\n",
    "import pandas as pd\n",
    "import matplotlib.pyplot as plt\n",
    "import glob\n",
    "from ipywidgets import widgets\n",
    "from ipywidgets import interact, interactive, Button, HBox, VBox, Text, interactive_output"
   ]
  },
  {
   "cell_type": "code",
   "execution_count": null,
   "id": "0181e254",
   "metadata": {
    "code_folding": [
     1
    ]
   },
   "outputs": [],
   "source": [
    "ref_electrodes = ['Li/Li$^+$', 'Na/Na$^+$', 'Hg/HgSO$_4$', 'Ag/AgCl', 'Carbon', 'Ag']\n",
    "normalization_options = ['Current density (A/g)', 'Specific Capacitance (F/g)', 'Specific Capacity (mAh/g)', \n",
    "                         'Specific Charge (C/g)', 'Volumetric Capacitance (F/cm$^3$)', 'Volumetric Capacity (mAh/cm$^3$)',\n",
    "                        'Volumetric Charge (C/cm$^3$)', 'Areal Capacitance (F/cm$^2$)', 'Areal Capacity (mAh/cm$^2$)',\n",
    "                        'Areal Charge (C/cm$^2$)']"
   ]
  },
  {
   "cell_type": "markdown",
   "id": "5ba69251",
   "metadata": {},
   "source": [
    "## Reading in files and input of user constants"
   ]
  },
  {
   "cell_type": "code",
   "execution_count": null,
   "id": "ab903643",
   "metadata": {
    "code_folding": []
   },
   "outputs": [],
   "source": [
    "# Enter path to folder containing your data in quotes followed by /*. Should match \"your_path/*\"\n",
    "file_list = glob.glob('/*')\n",
    "file_list.sort()"
   ]
  },
  {
   "cell_type": "code",
   "execution_count": null,
   "id": "d07f37c6",
   "metadata": {},
   "outputs": [],
   "source": [
    "file_list"
   ]
  },
  {
   "cell_type": "code",
   "execution_count": null,
   "id": "fb79a37a",
   "metadata": {},
   "outputs": [],
   "source": [
    "# Enter your scan rates as a comma separated list in the square brackets, e.g., [5, 10, 20, 50, 100]\n",
    "scan_rates = []"
   ]
  },
  {
   "cell_type": "code",
   "execution_count": null,
   "id": "eadc670e",
   "metadata": {},
   "outputs": [],
   "source": [
    "# Replace 'None' with your values. Okay to leave as 'None' if you don't have a value.\n",
    "electrode_mass = None #in mg\n",
    "electrode_area = None #in cm^2\n",
    "electrode_volume = None #in cm^3"
   ]
  },
  {
   "cell_type": "markdown",
   "id": "33ffcf42",
   "metadata": {},
   "source": [
    "## BioLogic cyclic voltammograms"
   ]
  },
  {
   "cell_type": "code",
   "execution_count": null,
   "id": "086b77f9",
   "metadata": {
    "code_folding": [
     0
    ]
   },
   "outputs": [],
   "source": [
    "def cv_avg_and_error(data, scan_rate):\n",
    "    '''Calculates average potential, current (and corresponding error) \n",
    "    for the second to n - 1 cycles for a single scan rate.'''\n",
    "    \n",
    "    cycle_num = data['cycle number'].unique()\n",
    "    \n",
    "    potential = []\n",
    "    for n in cycle_num[1:-1]:\n",
    "        potential.append(np.asarray(data['Ewe/V'][data['cycle number'] == n]))\n",
    "    potential = pd.DataFrame(potential).transpose()\n",
    "    avg_potential = potential.mean(axis=1)\n",
    "    \n",
    "    current = []\n",
    "    for n in cycle_num[1:-1]:\n",
    "        current.append(np.asarray(data['<I>/mA'][data['cycle number'] == n]))\n",
    "    current = pd.DataFrame(current).transpose()\n",
    "    avg_current = np.mean(current, axis=1)\n",
    "    current_err = np.std(current, axis=1)\n",
    "\n",
    "    return avg_potential, avg_current, current_err"
   ]
  },
  {
   "cell_type": "code",
   "execution_count": null,
   "id": "3cf39442",
   "metadata": {
    "code_folding": [
     0
    ],
    "scrolled": false
   },
   "outputs": [],
   "source": [
    "def plot_CVs_biologic(ref, yaxis, Error):\n",
    "    '''Plots average voltammograms from file list with error bands.'''\n",
    "    global fig\n",
    "    \n",
    "    fig, ax = plt.subplots(figsize=(6, 6), dpi=150)\n",
    "\n",
    "    for file, rate in zip(file_list, scan_rates):\n",
    "        \n",
    "        with open(file, 'r') as f:\n",
    "            data = pd.read_table(f)\n",
    "            avg_potential, avg_current, current_err = cv_avg_and_error(data, rate)\n",
    "            \n",
    "            if 'Capacity' in yaxis:\n",
    "                capacity = (avg_current * (max(avg_potential) - min(avg_potential))) / (3.6 * rate)\n",
    "                capacity_err = (current_err * (max(avg_potential) - min(avg_potential))) / (3.6 * rate)\n",
    "                \n",
    "                if 'Specific' in yaxis:\n",
    "                    ax.plot(avg_potential, \n",
    "                            capacity * 1000 / electrode_mass, \n",
    "                            linewidth=2, label=(f\"{rate} mV/s\"))\n",
    "                    if Error:\n",
    "                        ax.fill_between(avg_potential, \n",
    "                                        (capacity + capacity_err) * 1000 / electrode_mass, \n",
    "                                        (capacity - capacity_err) * 1000 / electrode_mass, \n",
    "                                        alpha=0.4)\n",
    "                elif 'Volumetric' in yaxis:\n",
    "                    ax.plot(avg_potential, \n",
    "                            capacity / electrode_volume, \n",
    "                            linewidth=2, label=(f\"{rate} mV/s\"))\n",
    "                    if Error:\n",
    "                        ax.fill_between(avg_potential, \n",
    "                                        (capacity + capacity_err) / electrode_volume, \n",
    "                                        (capacity - capacity_err) / electrode_volume, \n",
    "                                        alpha=0.4)\n",
    "                elif 'Areal' in yaxis:\n",
    "                    ax.plot(avg_potential, \n",
    "                            capacity / electrode_area, \n",
    "                            linewidth=2, label=(f\"{rate} mV/s\"))\n",
    "                    if Error:  \n",
    "                        ax.fill_between(avg_potential, \n",
    "                                        (capacity + capacity_err) / electrode_area, \n",
    "                                        (capacity - capacity_err) / electrode_area, \n",
    "                                        alpha=0.4)\n",
    "                    \n",
    "            elif 'Capacitance' in yaxis:\n",
    "                capacitance = avg_current / rate\n",
    "                capacitance_err = current_err / rate\n",
    "                \n",
    "                if 'Specific' in yaxis:\n",
    "                    ax.plot(avg_potential, \n",
    "                            capacitance * 1000 / electrode_mass, \n",
    "                            linewidth=2, label=(f\"{rate} mV/s\"))\n",
    "                    if Error:\n",
    "                        ax.fill_between(avg_potential, \n",
    "                                        (capacitance + capacitance_err) * 1000 / electrode_mass, \n",
    "                                        (capacitance - capacitance_err) * 1000 / electrode_mass, \n",
    "                                        alpha=0.4)\n",
    "                elif 'Volumetric' in yaxis:\n",
    "                    ax.plot(avg_potential, \n",
    "                            capacitance / electrode_volume, \n",
    "                            linewidth=2, label=(f\"{rate} mV/s\"))\n",
    "                    if Error:\n",
    "                        ax.fill_between(avg_potential, \n",
    "                                        (capacitance + capacitance_err) / electrode_volume, \n",
    "                                        (capacitance - capacitance_err) / electrode_volume, \n",
    "                                        alpha=0.4)\n",
    "                elif 'Areal' in yaxis:\n",
    "                    ax.plot(avg_potential, \n",
    "                            capacitance / electrode_area, \n",
    "                            linewidth=2, label=(f\"{rate} mV/s\"))\n",
    "                    if Error:  \n",
    "                        ax.fill_between(avg_potential, \n",
    "                                        (capacitance + capacitance_err) / electrode_area, \n",
    "                                        (capacitance - capacitance_err) / electrode_area, \n",
    "                                        alpha=0.4)\n",
    "            \n",
    "            elif 'Charge' in yaxis:\n",
    "                charge = (avg_current * (max(avg_potential) - min(avg_potential))) / rate\n",
    "                charge_err = (current_err * (max(avg_potential) - min(avg_potential))) / rate\n",
    "                \n",
    "                if 'Specific' in yaxis:\n",
    "                    ax.plot(avg_potential, charge * 1000 / electrode_mass, \n",
    "                            linewidth=2, label=(f\"{rate} mV/s\"))\n",
    "                    if Error:\n",
    "                        ax.fill_between(avg_potential, \n",
    "                                        (charge + charge_err) * 1000 / electrode_mass, \n",
    "                                        (charge - charge_err)* 1000 / electrode_mass, \n",
    "                                        alpha=0.4)\n",
    "                elif 'Volumetric' in yaxis:\n",
    "                    ax.plot(avg_potential, charge / electrode_volume, \n",
    "                            linewidth=2, label=(f\"{rate} mV/s\"))\n",
    "                    if Error:\n",
    "                        ax.fill_between(avg_potential, \n",
    "                                        (charge + charge_err) / electrode_volume, \n",
    "                                        (charge - charge_err) / electrode_volume, \n",
    "                                        alpha=0.4)\n",
    "                elif 'Areal' in yaxis:\n",
    "                    ax.plot(avg_potential, charge / electrode_area, \n",
    "                            linewidth=2, label=(f\"{rate} mV/s\"))\n",
    "                    if Error:  \n",
    "                        ax.fill_between(avg_potential, \n",
    "                                        (charge + charge_err) / (electrode_area), \n",
    "                                        (charge - charge_err) / (electrode_area), \n",
    "                                        alpha=0.4)\n",
    "            \n",
    "            else:\n",
    "                ax.plot(avg_potential, avg_current / electrode_mass, linewidth=2, label=(f\"{rate} mV/s\"))\n",
    "                if Error:\n",
    "                    ax.fill_between(avg_potential, (avg_current + current_err) / electrode_mass, \n",
    "                                    (avg_current - current_err) / electrode_mass, \n",
    "                                    alpha=0.4)\n",
    "                          \n",
    "    \n",
    "    ax.tick_params(which='both', labelsize=14, width=2, length=5)\n",
    "    ax.legend(frameon=False)\n",
    "\n",
    "    ax.set_xlabel(f'Potential vs. {ref}', fontsize=18)\n",
    "    ax.set_ylabel(f'{yaxis}', fontsize=18)"
   ]
  },
  {
   "cell_type": "code",
   "execution_count": null,
   "id": "fe4f50b8",
   "metadata": {
    "code_folding": [
     0
    ],
    "scrolled": false
   },
   "outputs": [],
   "source": [
    "def make_figure():\n",
    "    refs = widgets.Dropdown(options=ref_electrodes)\n",
    "    yaxis_choice = widgets.Dropdown(options=normalization_options)\n",
    "    err = widgets.Checkbox(description='Error', indent=False)\n",
    "    def on_button_clicked(b):\n",
    "        fig.savefig(\"test.png\")\n",
    "\n",
    "    button = Button(description=\"Save Figure\")\n",
    "    button.on_click(on_button_clicked)\n",
    "\n",
    "    ui = HBox([refs, yaxis_choice, err, button])\n",
    "\n",
    "    out = widgets.interactive_output(plot_CVs_biologic, {'ref': refs, 'yaxis': yaxis_choice, 'Error': err})\n",
    "    display(ui, out)"
   ]
  },
  {
   "cell_type": "code",
   "execution_count": null,
   "id": "3ee13a95",
   "metadata": {},
   "outputs": [],
   "source": [
    "make_figure()"
   ]
  }
 ],
 "metadata": {
  "kernelspec": {
   "display_name": "Python 3 (ipykernel)",
   "language": "python",
   "name": "python3"
  },
  "language_info": {
   "codemirror_mode": {
    "name": "ipython",
    "version": 3
   },
   "file_extension": ".py",
   "mimetype": "text/x-python",
   "name": "python",
   "nbconvert_exporter": "python",
   "pygments_lexer": "ipython3",
   "version": "3.10.4"
  }
 },
 "nbformat": 4,
 "nbformat_minor": 5
}

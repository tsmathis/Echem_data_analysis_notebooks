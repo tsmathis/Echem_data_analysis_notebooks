{
 "cells": [
  {
   "cell_type": "markdown",
   "id": "cdc9de08",
   "metadata": {},
   "source": [
    "# Processing cyclic voltammograms from multiple sets of files"
   ]
  },
  {
   "cell_type": "markdown",
   "id": "147212be",
   "metadata": {},
   "source": [
    "## LIbrary imports and some default values for plotting"
   ]
  },
  {
   "cell_type": "code",
   "execution_count": null,
   "id": "8621fbb1",
   "metadata": {},
   "outputs": [],
   "source": [
    "import numpy as np\n",
    "import pandas as pd\n",
    "import matplotlib.pyplot as plt\n",
    "import os\n",
    "from ipywidgets import widgets\n",
    "from ipywidgets import Button, HBox, VBox, Text, interactive_output"
   ]
  },
  {
   "cell_type": "code",
   "execution_count": null,
   "id": "c41d7db4",
   "metadata": {
    "code_folding": [
     1
    ]
   },
   "outputs": [],
   "source": [
    "ref_electrodes = ['Li/Li$^+$', 'Na/Na$^+$', 'Hg/HgSO$_4$', 'Ag/AgCl', 'Carbon', 'Ag']\n",
    "normalization_options = ['Current density (A/g)', 'Specific Capacitance (F/g)', 'Specific Capacity (mAh/g)', \n",
    "                         'Specific Charge (C/g)', 'Volumetric Capacitance (F/cm$^3$)', 'Volumetric Capacity (mAh/cm$^3$)',\n",
    "                        'Volumetric Charge (C/cm$^3$)', 'Areal Capacitance (F/cm$^2$)', 'Areal Capacity (mAh/cm$^2$)',\n",
    "                        'Areal Charge (C/cm$^2$)']"
   ]
  },
  {
   "cell_type": "markdown",
   "id": "5ba69251",
   "metadata": {},
   "source": [
    "## Reading in files, preprocessing data, and input of user constants"
   ]
  },
  {
   "cell_type": "code",
   "execution_count": null,
   "id": "ab903643",
   "metadata": {
    "code_folding": []
   },
   "outputs": [],
   "source": [
    "# Enter path to folder containing your data in quotes.\n",
    "rootdir = ''"
   ]
  },
  {
   "cell_type": "code",
   "execution_count": null,
   "id": "fb79a37a",
   "metadata": {},
   "outputs": [],
   "source": [
    "# Enter your scan rates as a comma separated list in the square brackets, e.g., [5, 10, 20, 50, 100].\n",
    "scan_rates = []"
   ]
  },
  {
   "cell_type": "code",
   "execution_count": null,
   "id": "eadc670e",
   "metadata": {},
   "outputs": [],
   "source": [
    "# Replace 'None' with your values. Okay to leave as 'None' if you don't have a value.\n",
    "electrode_mass = None #in mg\n",
    "electrode_area = None #in cm^2\n",
    "electrode_volume = None #in cm^3"
   ]
  },
  {
   "cell_type": "code",
   "execution_count": null,
   "id": "5e9e582d",
   "metadata": {
    "code_folding": [
     0
    ]
   },
   "outputs": [],
   "source": [
    "def create_file_dict(rootdir, scan_rates):\n",
    "    '''\n",
    "    Creates a dictionary of file paths that correspond to the cell \n",
    "    data that will be processed. Files must be named such that they \n",
    "    are pre-sorted. Files are grouped by scan rate.\n",
    "    '''\n",
    "\n",
    "    file_dict = {}\n",
    "\n",
    "    directory_path = [x[0] for x in os.walk(rootdir)][1:]\n",
    "    file_path = [x[2] for x in os.walk(rootdir)][1:]\n",
    "\n",
    "    full_path_list = []\n",
    "    for idx, nested_list in enumerate(file_path):\n",
    "        temp = []\n",
    "        for element in nested_list:\n",
    "            temp.append('{}\\\\{}'.format(directory_path[idx], element))\n",
    "        full_path_list.append(temp)\n",
    "\n",
    "    for scan_rate, path in zip(scan_rates, full_path_list):\n",
    "        file_dict[scan_rate] = path\n",
    "\n",
    "    return file_dict\n"
   ]
  },
  {
   "cell_type": "code",
   "execution_count": null,
   "id": "da0111d0",
   "metadata": {
    "code_folding": [
     0
    ]
   },
   "outputs": [],
   "source": [
    "def cvs_avg_and_variance(data):\n",
    "    '''\n",
    "    Calculates average potential, averager current, and current variance \n",
    "    for the second to n - 1 cycles for a given scan rate from a BioLogic \n",
    "    txt file.\n",
    "    '''\n",
    "\n",
    "    cycle_num = data['cycle number'].unique()\n",
    "\n",
    "    current = []\n",
    "    for n in cycle_num[1:-1]:\n",
    "        current.append(np.asarray(\n",
    "            data['<I>/mA'][data['cycle number'] == n]))\n",
    "    current = pd.DataFrame(current).transpose()\n",
    "    avg_current = np.mean(current, axis=1)\n",
    "    current_var = np.var(current, axis=1)\n",
    "\n",
    "    potential = []\n",
    "    for n in cycle_num[1:-1]:\n",
    "        potential.append(np.asarray(\n",
    "            data['Ewe/V'][data['cycle number'] == n]))\n",
    "    potential = pd.DataFrame(potential).transpose()\n",
    "    avg_potential = potential.mean(axis=1)\n",
    "\n",
    "    return list(avg_potential), list(avg_current), list(current_var)\n"
   ]
  },
  {
   "cell_type": "code",
   "execution_count": null,
   "id": "ef345e07",
   "metadata": {
    "code_folding": [
     0
    ]
   },
   "outputs": [],
   "source": [
    "def create_and_sort_data_dict(file_dict):\n",
    "    '''\n",
    "    Creates and then sorts a dictionary of the number of cycles,\n",
    "    average potentials, average currents, and current variances \n",
    "    from the files listed in the file_dict. Entries are grouped\n",
    "    by scan rate.\n",
    "    '''\n",
    "\n",
    "    data_dict = {}\n",
    "\n",
    "    for key in file_dict:\n",
    "        data_dict[key] = {'cycles': [],\n",
    "                          'avg_potential': [],\n",
    "                          'avg_current': [],\n",
    "                          'current_var': []\n",
    "                          }\n",
    "\n",
    "    for key in file_dict:\n",
    "\n",
    "        for element in file_dict[key]:\n",
    "\n",
    "            with open(element, 'r') as f:\n",
    "                data = pd.read_table(f)\n",
    "                cycles = max(data['cycle number']) - 2\n",
    "                avg_potential, avg_current, current_var = cvs_avg_and_variance(\n",
    "                    data)\n",
    "\n",
    "            data_dict[key]['cycles'].append(cycles)\n",
    "            data_dict[key]['avg_potential'].append(avg_potential)\n",
    "            data_dict[key]['avg_current'].append(avg_current)\n",
    "            data_dict[key]['current_var'].append(current_var)\n",
    "\n",
    "    for key in data_dict:\n",
    "\n",
    "        for i in range(len(data_dict[key]['avg_potential'])):\n",
    "\n",
    "            for idx, val in enumerate(data_dict[key]['avg_potential'][i]):\n",
    "\n",
    "                if data_dict[key]['avg_potential'][i][0] != max(data_dict[key]['avg_potential'][i]):\n",
    "\n",
    "                    pop_potential = data_dict[key]['avg_potential'][i].pop(\n",
    "                        0)\n",
    "                    data_dict[key]['avg_potential'][i].append(\n",
    "                        pop_potential)\n",
    "\n",
    "                    pop_current = data_dict[key]['avg_current'][i].pop(0)\n",
    "                    data_dict[key]['avg_current'][i].append(pop_current)\n",
    "\n",
    "                    pop_current_var = data_dict[key]['current_var'][i].pop(\n",
    "                        0)\n",
    "                    data_dict[key]['current_var'][i].append(\n",
    "                        pop_current_var)\n",
    "\n",
    "    return data_dict\n"
   ]
  },
  {
   "cell_type": "code",
   "execution_count": null,
   "id": "92a85a6c",
   "metadata": {
    "code_folding": [
     0
    ]
   },
   "outputs": [],
   "source": [
    "def check_and_downsample(data_dict):\n",
    "    '''\n",
    "    Checks number of data points for each entry in the data_dict. \n",
    "    Downsamples any entry that is longer than the shortet entry. \n",
    "    '''\n",
    "\n",
    "    lengths = []\n",
    "\n",
    "    for key in data_dict:\n",
    "        for idx, val in enumerate(data_dict[key]['avg_potential']):\n",
    "            lengths.append(len(val))\n",
    "\n",
    "    for key in data_dict:\n",
    "        for idx, val in enumerate(data_dict[key]['avg_potential']):\n",
    "            if len(val) != min(lengths):\n",
    "                points_to_drop = np.round(np.linspace(0, len(data_dict[key]['avg_potential'][idx]) - 1,\n",
    "                                                      len(data_dict[key]['avg_potential'][idx]) -\n",
    "                                                      min(lengths))).astype(int)\n",
    "\n",
    "                potential_update = [\n",
    "                    data_dict[key]['avg_potential'][idx][i] for i in points_to_drop]\n",
    "                current_update = [data_dict[key]['avg_current'][idx][i]\n",
    "                                  for i in points_to_drop]\n",
    "                var_update = [data_dict[key]['current_var'][idx][i]\n",
    "                              for i in points_to_drop]\n",
    "\n",
    "                potential_dropped = [item for item in data_dict[key]\n",
    "                                     ['avg_potential'][idx] if item not in potential_update]\n",
    "                current_dropped = [item for item in data_dict[key]\n",
    "                                   ['avg_current'][idx] if item not in current_update]\n",
    "                var_dropped = [item for item in data_dict[key]\n",
    "                               ['current_var'][idx] if item not in var_update]\n",
    "\n",
    "                data_dict[key]['avg_potential'][idx] = potential_dropped\n",
    "                data_dict[key]['avg_current'][idx] = current_dropped\n",
    "                data_dict[key]['current_var'][idx] = var_dropped\n",
    "                "
   ]
  },
  {
   "cell_type": "code",
   "execution_count": null,
   "id": "c6a9e8d9",
   "metadata": {
    "code_folding": [
     0
    ]
   },
   "outputs": [],
   "source": [
    "def get_weighted_avgs_std(data_dict):\n",
    "    '''\n",
    "    Generates dictionary containing the weighted averages of the\n",
    "    potenials and currents and the current standard deviation for\n",
    "    each scan rate in the data_dict. Weighted averages use the\n",
    "    number of cycles recorded at each scan rate\n",
    "    '''\n",
    "\n",
    "    final_data = {}\n",
    "\n",
    "    for key in data_dict:\n",
    "\n",
    "        weighted_avg_potential = np.zeros(\n",
    "            len(data_dict[key]['avg_potential'][0])\n",
    "        )\n",
    "        weighted_avg_current = np.zeros(\n",
    "            len(data_dict[key]['avg_current'][0])\n",
    "        )\n",
    "        avg_current_std = np.zeros(\n",
    "            len(data_dict[key]['current_var'][0])\n",
    "        )\n",
    "\n",
    "        for idx, val in enumerate(data_dict[key]['avg_potential']):\n",
    "            weighted_avg_potential += (np.asarray(val) * (\n",
    "                data_dict[key]['cycles'][idx] / sum(data_dict[key]['cycles'])))\n",
    "\n",
    "        for idx, val in enumerate(data_dict[key]['avg_current']):\n",
    "            weighted_avg_current += (np.asarray(val) * (\n",
    "                data_dict[key]['cycles'][idx] / sum(data_dict[key]['cycles'])))\n",
    "\n",
    "        for idx, val in enumerate(data_dict[key]['current_var']):\n",
    "            avg_current_std += np.asarray(val)\n",
    "\n",
    "        final_data[key] = {\n",
    "            'w_avg_potential': weighted_avg_potential,\n",
    "            'w_avg_current': weighted_avg_current,\n",
    "            'current_std_dev': np.sqrt(avg_current_std)\n",
    "        }\n",
    "\n",
    "    return final_data\n"
   ]
  },
  {
   "cell_type": "code",
   "execution_count": null,
   "id": "1292207e",
   "metadata": {},
   "outputs": [],
   "source": [
    "file_dict = create_file_dict(rootdir=rootdir, scan_rates=scan_rates)\n",
    "data_dict = create_and_sort_data_dict(file_dict=file_dict)\n",
    "check_and_downsample(data_dict=data_dict)\n",
    "final_data = get_weighted_avgs_std(data_dict=data_dict)"
   ]
  },
  {
   "cell_type": "markdown",
   "id": "f79861d4",
   "metadata": {},
   "source": [
    "## Plotting BioLogic cyclic voltammograms"
   ]
  },
  {
   "cell_type": "code",
   "execution_count": null,
   "id": "3308cc3e",
   "metadata": {
    "code_folding": [
     0
    ]
   },
   "outputs": [],
   "source": [
    "def plot_CVs_biologic(ref, yaxis, Error):\n",
    "    '''\n",
    "    Plots average voltammograms from file list with error bands.\n",
    "    '''\n",
    "    global fig\n",
    "    \n",
    "    fig, ax = plt.subplots(figsize=(6, 6), dpi=150)\n",
    "\n",
    "    for key, rate in zip(final_data, scan_rates):\n",
    "        \n",
    "        potential = final_data[key]['w_avg_potential']\n",
    "        current = final_data[key]['w_avg_current']\n",
    "        std = final_data[key]['current_std_dev']\n",
    "        \n",
    "        if 'Capacity' in yaxis:\n",
    "            capacity = (current * (max(potential) - min(potential))) / (3.6 * rate)\n",
    "            capacity_err = (std * (max(potential) - min(potential))) / (3.6 * rate)\n",
    "\n",
    "            if 'Specific' in yaxis:\n",
    "                ax.plot(potential, \n",
    "                        capacity * 1000 / electrode_mass, \n",
    "                        linewidth=2, label=(f\"{rate} mV/s\"))\n",
    "                if Error:\n",
    "                    ax.fill_between(potential, \n",
    "                                    (capacity + capacity_err) * 1000 / electrode_mass, \n",
    "                                    (capacity - capacity_err) * 1000 / electrode_mass, \n",
    "                                    alpha=0.4)\n",
    "            elif 'Volumetric' in yaxis:\n",
    "                ax.plot(potential, \n",
    "                        capacity / electrode_volume, \n",
    "                        linewidth=2, label=(f\"{rate} mV/s\"))\n",
    "                if Error:\n",
    "                    ax.fill_between(potential, \n",
    "                                    (capacity + capacity_err) / electrode_volume, \n",
    "                                    (capacity - capacity_err) / electrode_volume, \n",
    "                                    alpha=0.4)\n",
    "            elif 'Areal' in yaxis:\n",
    "                ax.plot(potential, \n",
    "                        capacity / electrode_area, \n",
    "                        linewidth=2, label=(f\"{rate} mV/s\"))\n",
    "                if Error:  \n",
    "                    ax.fill_between(potential, \n",
    "                                    (capacity + capacity_err) / electrode_area, \n",
    "                                    (capacity - capacity_err) / electrode_area, \n",
    "                                    alpha=0.4)\n",
    "\n",
    "        elif 'Capacitance' in yaxis:\n",
    "            capacitance = current / rate\n",
    "            capacitance_err = std / rate\n",
    "\n",
    "            if 'Specific' in yaxis:\n",
    "                ax.plot(potential, \n",
    "                        capacitance * 1000 / electrode_mass, \n",
    "                        linewidth=2, label=(f\"{rate} mV/s\"))\n",
    "                if Error:\n",
    "                    ax.fill_between(potential, \n",
    "                                    (capacitance + capacitance_err) * 1000 / electrode_mass, \n",
    "                                    (capacitance - capacitance_err) * 1000 / electrode_mass, \n",
    "                                    alpha=0.4)\n",
    "            elif 'Volumetric' in yaxis:\n",
    "                ax.plot(potential, \n",
    "                        capacitance / electrode_volume, \n",
    "                        linewidth=2, label=(f\"{rate} mV/s\"))\n",
    "                if Error:\n",
    "                    ax.fill_between(potential, \n",
    "                                    (capacitance + capacitance_err) / electrode_volume, \n",
    "                                    (capacitance - capacitance_err) / electrode_volume, \n",
    "                                    alpha=0.4)\n",
    "            elif 'Areal' in yaxis:\n",
    "                ax.plot(potential, \n",
    "                        capacitance / electrode_area, \n",
    "                        linewidth=2, label=(f\"{rate} mV/s\"))\n",
    "                if Error:  \n",
    "                    ax.fill_between(potential, \n",
    "                                    (capacitance + capacitance_err) / electrode_area, \n",
    "                                    (capacitance - capacitance_err) / electrode_area, \n",
    "                                    alpha=0.4)\n",
    "\n",
    "        elif 'Charge' in yaxis:\n",
    "            charge = (current * (max(potential) - min(potential))) / rate\n",
    "            charge_err = (std * (max(potential) - min(potential))) / rate\n",
    "\n",
    "            if 'Specific' in yaxis:\n",
    "                ax.plot(potential, charge * 1000 / electrode_mass, \n",
    "                        linewidth=2, label=(f\"{rate} mV/s\"))\n",
    "                if Error:\n",
    "                    ax.fill_between(potential, \n",
    "                                    (charge + charge_err) * 1000 / electrode_mass, \n",
    "                                    (charge - charge_err)* 1000 / electrode_mass, \n",
    "                                    alpha=0.4)\n",
    "            elif 'Volumetric' in yaxis:\n",
    "                ax.plot(potential, charge / electrode_volume, \n",
    "                        linewidth=2, label=(f\"{rate} mV/s\"))\n",
    "                if Error:\n",
    "                    ax.fill_between(potential, \n",
    "                                    (charge + charge_err) / electrode_volume, \n",
    "                                    (charge - charge_err) / electrode_volume, \n",
    "                                    alpha=0.4)\n",
    "            elif 'Areal' in yaxis:\n",
    "                ax.plot(potential, charge / electrode_area, \n",
    "                        linewidth=2, label=(f\"{rate} mV/s\"))\n",
    "                if Error:  \n",
    "                    ax.fill_between(potential, \n",
    "                                    (charge + charge_err) / (electrode_area), \n",
    "                                    (charge - charge_err) / (electrode_area), \n",
    "                                    alpha=0.4)\n",
    "\n",
    "        else:\n",
    "            ax.plot(potential, current / electrode_mass, linewidth=2, label=(f\"{rate} mV/s\"))\n",
    "            if Error:\n",
    "                ax.fill_between(potential, (current + std) / electrode_mass, \n",
    "                                (current - std) / electrode_mass, \n",
    "                                alpha=0.4)\n",
    "                          \n",
    "    \n",
    "    ax.tick_params(which='both', labelsize=14, width=2, length=5)\n",
    "    ax.legend(frameon=False)\n",
    "\n",
    "    ax.set_xlabel(f'Potential vs. {ref}', fontsize=18)\n",
    "    ax.set_ylabel(f'{yaxis}', fontsize=18)"
   ]
  },
  {
   "cell_type": "code",
   "execution_count": null,
   "id": "caa9548c",
   "metadata": {
    "code_folding": [
     0
    ]
   },
   "outputs": [],
   "source": [
    "def make_figure():\n",
    "    '''\n",
    "    Generates interactive figure using the plot_CVs_biologic function.\n",
    "    '''\n",
    "    refs = widgets.Dropdown(options=ref_electrodes)\n",
    "    yaxis_choice = widgets.Dropdown(options=normalization_options)\n",
    "    err = widgets.Checkbox(description='Error', indent=False)\n",
    "    def on_button_clicked(b):\n",
    "        fig.savefig(\"test.png\")\n",
    "\n",
    "    button = Button(description=\"Save Figure\")\n",
    "    button.on_click(on_button_clicked)\n",
    "\n",
    "    ui = HBox([refs, yaxis_choice, err, button])\n",
    "\n",
    "    out = widgets.interactive_output(plot_CVs_biologic, {'ref': refs, 'yaxis': yaxis_choice, 'Error': err})\n",
    "    display(ui, out)"
   ]
  },
  {
   "cell_type": "code",
   "execution_count": null,
   "id": "cf0a12a5",
   "metadata": {},
   "outputs": [],
   "source": [
    "make_figure()"
   ]
  },
  {
   "cell_type": "code",
   "execution_count": null,
   "id": "5d6f380c",
   "metadata": {},
   "outputs": [],
   "source": []
  }
 ],
 "metadata": {
  "kernelspec": {
   "display_name": "Python 3 (ipykernel)",
   "language": "python",
   "name": "python3"
  },
  "language_info": {
   "codemirror_mode": {
    "name": "ipython",
    "version": 3
   },
   "file_extension": ".py",
   "mimetype": "text/x-python",
   "name": "python",
   "nbconvert_exporter": "python",
   "pygments_lexer": "ipython3",
   "version": "3.10.4"
  }
 },
 "nbformat": 4,
 "nbformat_minor": 5
}

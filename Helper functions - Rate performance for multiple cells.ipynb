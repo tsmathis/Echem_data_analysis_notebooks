{
 "cells": [
  {
   "cell_type": "markdown",
   "id": "1257c471",
   "metadata": {},
   "source": [
    "# Calculating rate performance for multiple cells"
   ]
  },
  {
   "cell_type": "markdown",
   "id": "88624858",
   "metadata": {},
   "source": [
    "## LIbrary imports and some default values for plotting"
   ]
  },
  {
   "cell_type": "code",
   "execution_count": null,
   "id": "8621fbb1",
   "metadata": {},
   "outputs": [],
   "source": [
    "import numpy as np\n",
    "import pandas as pd\n",
    "import matplotlib.pyplot as plt\n",
    "import matplotlib.ticker as mticker\n",
    "from matplotlib.ticker import FormatStrFormatter\n",
    "import os\n",
    "from ipywidgets import widgets\n",
    "from ipywidgets import Button, HBox, VBox, Text, interactive_output"
   ]
  },
  {
   "cell_type": "code",
   "execution_count": null,
   "id": "e67e3d1f",
   "metadata": {
    "code_folding": [
     2
    ]
   },
   "outputs": [],
   "source": [
    "markers = ['.', 'o', 's', 'v', '^', '<', '>', 'p', '*', 'D', 'd', 'H', 'h']\n",
    "marker_fill = ['full', 'left', 'right', 'bottom', 'top', 'none']\n",
    "normalization_options = ['Specific Capacitance (F/g)', 'Specific Capacity (mAh/g)', 'Specific Charge (C/g)', \n",
    "                         'Volumetric Capacitance (F/cm$^3$)', 'Volumetric Capacity (mAh/cm$^3$)',\n",
    "                         'Volumetric Charge (C/cm$^3$)', 'Areal Capacitance (F/cm$^2$)', \n",
    "                         'Areal Capacity (mAh/cm$^2$)', 'Areal Charge (C/cm$^2$)']"
   ]
  },
  {
   "cell_type": "markdown",
   "id": "5ba69251",
   "metadata": {},
   "source": [
    "## Reading in files, preprocessing data, and input of user constants"
   ]
  },
  {
   "cell_type": "code",
   "execution_count": null,
   "id": "ab903643",
   "metadata": {
    "code_folding": []
   },
   "outputs": [],
   "source": [
    "# Enter path to folder containing your data in quotes.\n",
    "rootdir = ''"
   ]
  },
  {
   "cell_type": "code",
   "execution_count": null,
   "id": "fb79a37a",
   "metadata": {},
   "outputs": [],
   "source": [
    "# Enter your scan rates as a comma separated list in the square brackets, e.g., [5, 10, 20, 50, 100].\n",
    "scan_rates = []"
   ]
  },
  {
   "cell_type": "code",
   "execution_count": null,
   "id": "eadc670e",
   "metadata": {},
   "outputs": [],
   "source": [
    "# Enter your values as a comma separated list in the square brackets. \n",
    "# Okay to leave empty if you don't have values.\n",
    "\n",
    "electrode_mass = [] #in mg\n",
    "electrode_area = [] #in cm^2\n",
    "electrode_volume = [] #in cm^3"
   ]
  },
  {
   "cell_type": "code",
   "execution_count": null,
   "id": "5e9e582d",
   "metadata": {
    "code_folding": [
     0
    ]
   },
   "outputs": [],
   "source": [
    "def create_file_dict(rootdir, scan_rates):\n",
    "    '''\n",
    "    Creates a dictionary of file paths that correspond to the cell \n",
    "    data that will be processed. Files must be named such that they \n",
    "    are pre-sorted. Files are grouped by scan rate.\n",
    "    '''\n",
    "\n",
    "    file_dict = {}\n",
    "\n",
    "    directory_path = [x[0] for x in os.walk(rootdir)][1:]\n",
    "    file_path = [x[2] for x in os.walk(rootdir)][1:]\n",
    "\n",
    "    full_path_list = []\n",
    "    for idx, nested_list in enumerate(file_path):\n",
    "        temp = []\n",
    "        for element in nested_list:\n",
    "            temp.append('{}\\\\{}'.format(directory_path[idx], element))\n",
    "        full_path_list.append(temp)\n",
    "\n",
    "    for scan_rate, path in zip(scan_rates, full_path_list):\n",
    "        file_dict[scan_rate] = path\n",
    "\n",
    "    return file_dict"
   ]
  },
  {
   "cell_type": "code",
   "execution_count": null,
   "id": "819e75fe",
   "metadata": {
    "code_folding": [
     0
    ]
   },
   "outputs": [],
   "source": [
    "def rate_performance(data):\n",
    "    '''\n",
    "    Calculates average capacitance, capacity, and charge (and error values) \n",
    "    for a series of scan rates.Returns a plot of average capacitance with \n",
    "    error bars versus scan rate.\n",
    "    '''\n",
    "    potential_window = 0\n",
    "    \n",
    "    if potential_window == 0:\n",
    "        potential_window += (max(data['Ewe/V']) - min(data['Ewe/V']))\n",
    "\n",
    "    cycle_number = data['cycle number'].unique()\n",
    "\n",
    "    charge_list = []\n",
    "    charge_data = data[data['<I>/mA'] > 0]\n",
    "    for n in cycle_number[1:-1]:\n",
    "        charge_list.append(\n",
    "            np.trapz(\n",
    "            charge_data['<I>/mA'][charge_data['cycle number'] == n], \n",
    "            charge_data['time/s'][charge_data['cycle number'] == n]\n",
    "            )\n",
    "        )\n",
    "\n",
    "    charge = np.mean(charge_list)\n",
    "    charge_var = np.var(charge_list)\n",
    "\n",
    "    discharge_list = []\n",
    "    discharge_data = data[data['<I>/mA'] < 0]\n",
    "    for n in cycle_number[1:-1]:\n",
    "        discharge_list.append(\n",
    "            np.trapz(\n",
    "            discharge_data['<I>/mA'][discharge_data['cycle number'] == n], \n",
    "            discharge_data['time/s'][discharge_data['cycle number'] == n]\n",
    "            )\n",
    "        )\n",
    "\n",
    "    discharge = np.abs(np.mean(discharge_list))\n",
    "    discharge_var = np.abs(np.var(discharge_list))\n",
    "\n",
    "    ce = np.mean([i / j for i, j in zip(np.abs(discharge_list), charge_list)])\n",
    "    ce_var = np.var([i / j for i, j in zip(np.abs(discharge_list), charge_list)])\n",
    "            \n",
    "    return charge, discharge, charge_var, discharge_var, ce, ce_var, potential_window"
   ]
  },
  {
   "cell_type": "code",
   "execution_count": null,
   "id": "ef345e07",
   "metadata": {
    "code_folding": [
     0
    ]
   },
   "outputs": [],
   "source": [
    "def create_data_dict(file_dict):\n",
    "    '''\n",
    "    Creates and then sorts a dictionary of the number of cycles,\n",
    "    average potentials, average currents, and current variances \n",
    "    from the files listed in the file_dict. Entries are grouped\n",
    "    by scan rate.\n",
    "    '''\n",
    "\n",
    "    data_dict = {}\n",
    "\n",
    "    for key in file_dict:\n",
    "        data_dict[key] = {'cycles': [],\n",
    "                          'capacitance': [],\n",
    "                          'capacitance_var': [],\n",
    "                          'dis_capacitance': [],\n",
    "                          'dis_capacitance_var': [],\n",
    "                          'capacity': [],\n",
    "                          'capacity_var': [],\n",
    "                          'dis_capacity': [],\n",
    "                          'dis_capacity_var': [],\n",
    "                          'coulombs': [],\n",
    "                          'coulombs_var': [],\n",
    "                          'dis_coulombs': [],\n",
    "                          'dis_coulombs_var': [],\n",
    "                          'coulomb_eff': [],\n",
    "                          'c_e_var': []\n",
    "                          }\n",
    "\n",
    "    for key in file_dict:\n",
    "\n",
    "        for element in file_dict[key]:\n",
    "\n",
    "            with open(element, 'r') as f:\n",
    "                data = pd.read_table(f)\n",
    "                cycles = max(data['cycle number']) - 2\n",
    "                charge, discharge, charge_var, discharge_var, ce, ce_var, potential_window = rate_performance(data=data)\n",
    "\n",
    "            data_dict[key]['cycles'].append(cycles)\n",
    "            \n",
    "            data_dict[key]['capacitance'].append(charge / potential_window)\n",
    "            data_dict[key]['capacitance_var'].append(charge_var / potential_window)\n",
    "            data_dict[key]['dis_capacitance'].append(discharge / potential_window)\n",
    "            data_dict[key]['dis_capacitance_var'].append(discharge_var / potential_window)\n",
    "            \n",
    "            data_dict[key]['capacity'].append(charge / 3600)\n",
    "            data_dict[key]['capacity_var'].append(charge_var / 3600)\n",
    "            data_dict[key]['dis_capacity'].append(discharge / 3600)\n",
    "            data_dict[key]['dis_capacity_var'].append(discharge_var / 3600)\n",
    "            \n",
    "            data_dict[key]['coulombs'].append(charge / 1000)\n",
    "            data_dict[key]['coulombs_var'].append(charge_var / 1000)\n",
    "            data_dict[key]['dis_coulombs'].append(discharge / 1000)\n",
    "            data_dict[key]['dis_coulombs_var'].append(discharge_var / 1000)\n",
    "            \n",
    "            data_dict[key]['coulomb_eff'].append(ce)\n",
    "            data_dict[key]['c_e_var'].append(ce_var)\n",
    "   \n",
    "    return data_dict"
   ]
  },
  {
   "cell_type": "code",
   "execution_count": null,
   "id": "c6a9e8d9",
   "metadata": {
    "code_folding": [
     0,
     17,
     36,
     55
    ]
   },
   "outputs": [],
   "source": [
    "def get_weighted_avgs_std(data_dict, scalar):\n",
    "    '''\n",
    "    Generates dictionary containing the weighted averages of the\n",
    "    potenials and currents and the current standard deviation for\n",
    "    each scan rate in the data_dict. Weighted averages use the\n",
    "    number of cycles recorded at each scan rate\n",
    "    '''\n",
    "\n",
    "    scaled_charge_data = np.zeros(len(scan_rates))\n",
    "    scaled_discharge_data = np.zeros(len(scan_rates))\n",
    "    scaled_charge_data_std = np.zeros(len(scan_rates))\n",
    "    scaled_discharge_data_std = np.zeros(len(scan_rates))\n",
    "    weighted_c_eff = np.zeros(len(scan_rates))\n",
    "    c_eff_std = np.zeros(len(scan_rates))\n",
    "    \n",
    "    for idx, key in enumerate(data_dict):\n",
    "        for i in range(len(data_dict[key]['capacitance'])):\n",
    "            if 'Capacitance' in scalar:\n",
    "                if 'Specific' in scalar:\n",
    "                    scaled_charge_data[idx] += (data_dict[key]['capacitance'][i] / electrode_mass[i]) * (data_dict[key]['cycles'][i] / sum(data_dict[key]['cycles']))\n",
    "                    scaled_charge_data_std[idx] += (data_dict[key]['capacitance_var'][i] / electrode_mass[i]) * (data_dict[key]['cycles'][i] / sum(data_dict[key]['cycles']))\n",
    "                    scaled_discharge_data[idx] += (data_dict[key]['dis_capacitance'][i] / electrode_mass[i]) * (data_dict[key]['cycles'][i] / sum(data_dict[key]['cycles']))\n",
    "                    scaled_discharge_data_std[idx] += (data_dict[key]['dis_capacitance_var'][i] / electrode_mass[i]) * (data_dict[key]['cycles'][i] / sum(data_dict[key]['cycles']))\n",
    "\n",
    "                elif 'Volumetric' in scalar:\n",
    "                    scaled_charge_data[idx] += (data_dict[key]['capacitance'][i] / (electrode_volume[i] * 1000)) * (data_dict[key]['cycles'][i] / sum(data_dict[key]['cycles']))\n",
    "                    scaled_charge_data_std[idx] += (data_dict[key]['capacitance_var'][i] / (electrode_volume[i] * 1000)) * (data_dict[key]['cycles'][i] / sum(data_dict[key]['cycles']))\n",
    "                    scaled_discharge_data[idx] += (data_dict[key]['dis_capacitance'][i] / (electrode_volume[i] * 1000)) * (data_dict[key]['cycles'][i] / sum(data_dict[key]['cycles']))\n",
    "                    scaled_discharge_data_std[idx] += (data_dict[key]['dis_capacitance_var'][i] / (electrode_volume[i] * 1000)) * (data_dict[key]['cycles'][i] / sum(data_dict[key]['cycles']))\n",
    "\n",
    "                elif 'Areal' in scalar:\n",
    "                    scaled_charge_data[idx] += (data_dict[key]['capacitance'][i] / (electrode_area[i] * 1000)) * (data_dict[key]['cycles'][i] / sum(data_dict[key]['cycles']))\n",
    "                    scaled_charge_data_std[idx] += (data_dict[key]['capacitance_var'][i] / (electrode_area[i] * 1000)) * (data_dict[key]['cycles'][i] / sum(data_dict[key]['cycles']))\n",
    "                    scaled_discharge_data[idx] += (data_dict[key]['dis_capacitance'][i] / (electrode_area[i] * 1000)) * (data_dict[key]['cycles'][i] / sum(data_dict[key]['cycles']))\n",
    "                    scaled_discharge_data_std[idx] += (data_dict[key]['dis_capacitance_var'][i] / (electrode_area[i] * 1000)) * (data_dict[key]['cycles'][i] / sum(data_dict[key]['cycles']))\n",
    "\n",
    "            elif \"Capacity\" in scalar:\n",
    "                if 'Specific' in scalar:\n",
    "                    scaled_charge_data[idx] += ((data_dict[key]['capacity'][i] * 1000) / electrode_mass[i]) * (data_dict[key]['cycles'][i] / sum(data_dict[key]['cycles']))\n",
    "                    scaled_charge_data_std[idx] += ((data_dict[key]['capacity_var'][i] * 1000) / electrode_mass[i]) * (data_dict[key]['cycles'][i] / sum(data_dict[key]['cycles']))\n",
    "                    scaled_discharge_data[idx] += ((data_dict[key]['dis_capacity'][i] * 1000) / electrode_mass[i]) * (data_dict[key]['cycles'][i] / sum(data_dict[key]['cycles']))\n",
    "                    scaled_discharge_data_std[idx] += ((data_dict[key]['dis_capacity_var'][i] * 1000) / electrode_mass[i]) * (data_dict[key]['cycles'][i] / sum(data_dict[key]['cycles']))\n",
    "\n",
    "                elif 'Volumetric' in scalar:\n",
    "                    scaled_charge_data[idx] += (data_dict[key]['capacity'][i] / electrode_volume[i]) * (data_dict[key]['cycles'][i] / sum(data_dict[key]['cycles']))\n",
    "                    scaled_charge_data_std[idx] += (data_dict[key]['capacity_var'][i] / electrode_volume[i]) * (data_dict[key]['cycles'][i] / sum(data_dict[key]['cycles']))\n",
    "                    scaled_discharge_data[idx] += (data_dict[key]['dis_capacity'][i] / electrode_volume[i]) * (data_dict[key]['cycles'][i] / sum(data_dict[key]['cycles']))\n",
    "                    scaled_discharge_data_std[idx] += (data_dict[key]['dis_capacity_var'][i] / electrode_volume[i]) * (data_dict[key]['cycles'][i] / sum(data_dict[key]['cycles']))\n",
    "\n",
    "                elif 'Areal' in scalar:\n",
    "                    scaled_charge_data[idx] += (data_dict[key]['capacity'][i] / electrode_area[i]) * (data_dict[key]['cycles'][i] / sum(data_dict[key]['cycles']))\n",
    "                    scaled_charge_data_std[idx] += (data_dict[key]['capacity_var'][i] / electrode_area[i]) * (data_dict[key]['cycles'][i] / sum(data_dict[key]['cycles']))\n",
    "                    scaled_discharge_data[idx] += (data_dict[key]['dis_capacity'][i] / electrode_area[i]) * (data_dict[key]['cycles'][i] / sum(data_dict[key]['cycles']))\n",
    "                    scaled_discharge_data_std[idx] += (data_dict[key]['dis_capacity_var'][i] / electrode_area[i]) * (data_dict[key]['cycles'][i] / sum(data_dict[key]['cycles']))\n",
    "\n",
    "            elif 'Charge' in scalar:\n",
    "                if 'Specific' in scalar:\n",
    "                    scaled_charge_data[idx] += ((data_dict[key]['coulombs'][i] * 1000) / electrode_mass[i]) * (data_dict[key]['cycles'][i] / sum(data_dict[key]['cycles']))\n",
    "                    scaled_charge_data_std[idx] += ((data_dict[key]['coulombs_var'][i] * 1000) / electrode_mass[i]) * (data_dict[key]['cycles'][i] / sum(data_dict[key]['cycles']))\n",
    "                    scaled_discharge_data[idx] += ((data_dict[key]['dis_coulombs'][i] * 1000) / electrode_mass[i]) * (data_dict[key]['cycles'][i] / sum(data_dict[key]['cycles']))\n",
    "                    scaled_discharge_data_std[idx] += ((data_dict[key]['dis_coulombs_var'][i] * 1000) / electrode_mass[i]) * (data_dict[key]['cycles'][i] / sum(data_dict[key]['cycles']))\n",
    "\n",
    "                elif 'Volumetric' in scalar:\n",
    "                    scaled_charge_data[idx] += (data_dict[key]['coulombs'][i] / electrode_volume[i]) * (data_dict[key]['cycles'][i] / sum(data_dict[key]['cycles']))\n",
    "                    scaled_charge_data_std[idx] += (data_dict[key]['coulombs_var'][i] / electrode_volume[i]) * (data_dict[key]['cycles'][i] / sum(data_dict[key]['cycles']))\n",
    "                    scaled_discharge_data[idx] += (data_dict[key]['dis_coulombs'][i] / electrode_volume[i]) * (data_dict[key]['cycles'][i] / sum(data_dict[key]['cycles']))\n",
    "                    scaled_discharge_data_std[idx] += (data_dict[key]['dis_coulombs_var'][i] / electrode_volume[i]) * (data_dict[key]['cycles'][i] / sum(data_dict[key]['cycles']))\n",
    "\n",
    "                elif 'Areal' in scalar:\n",
    "                    scaled_charge_data[idx] += (data_dict[key]['coulombs'][i] / electrode_area[i]) * (data_dict[key]['cycles'][i] / sum(data_dict[key]['cycles']))\n",
    "                    scaled_charge_data_std[idx] += (data_dict[key]['coulombs_var'][i] / electrode_area[i]) * (data_dict[key]['cycles'][i] / sum(data_dict[key]['cycles']))\n",
    "                    scaled_discharge_data[idx] += (data_dict[key]['dis_coulombs'][i] / electrode_area[i]) * (data_dict[key]['cycles'][i] / sum(data_dict[key]['cycles']))\n",
    "                    scaled_discharge_data_std[idx] += (data_dict[key]['dis_coulombs_var'][i] / electrode_area[i]) * (data_dict[key]['cycles'][i] / sum(data_dict[key]['cycles']))\n",
    "\n",
    "    return (scaled_charge_data, scaled_discharge_data, \n",
    "            scaled_charge_data_std, scaled_discharge_data_std, \n",
    "            weighted_c_eff, c_eff_std)"
   ]
  },
  {
   "cell_type": "markdown",
   "id": "33ffcf42",
   "metadata": {},
   "source": [
    "## BioLogic rate performance"
   ]
  },
  {
   "cell_type": "code",
   "execution_count": null,
   "id": "dad8e5e9",
   "metadata": {
    "code_folding": [
     0
    ],
    "scrolled": true
   },
   "outputs": [],
   "source": [
    "def plot_rate_perf(yaxis, markers, marker_fill, color, c_e=False):\n",
    "    \n",
    "    global fig\n",
    "    \n",
    "    (scaled_charge_data, scaled_discharge_data, \n",
    "     scaled_charge_data_std, scaled_discharge_data_std, \n",
    "     weighted_c_eff, c_eff_std) = get_weighted_avgs_std(data_dict=data_dict, scalar=yaxis)\n",
    "    \n",
    "    fig, ax = plt.subplots(figsize=(6, 6), dpi=150)\n",
    "    \n",
    "    ax.errorbar(scan_rates, scaled_discharge_data, yerr=scaled_charge_data_std,\n",
    "            marker=markers, \n",
    "            fillstyle=marker_fill,\n",
    "            markersize=12,\n",
    "            color=color,\n",
    "            capsize=5,\n",
    "            capthick=2\n",
    "           )\n",
    "\n",
    "    ax.set_ylim(0, max(scaled_discharge_data) * 1.15)\n",
    "\n",
    "\n",
    "    if c_e:\n",
    "        ax2 = ax.twinx()\n",
    "        ax2.errorbar(scan_rates, weighted_c_eff * 100, yerr=c_eff_std * 100,\n",
    "                label='Coulombic efficiency',\n",
    "                marker=markers,\n",
    "                markersize=12,\n",
    "                color='red', \n",
    "                capsize=5,\n",
    "                capthick=2\n",
    "                       )\n",
    "        \n",
    "        ax2.set_ylim(min(ce * 100) * 0.99, max(ce * 100) * 1.01)\n",
    "        ax2.tick_params(which='both', labelsize=18, width=2, length=5)\n",
    "        ax2.legend(frameon=False)\n",
    "\n",
    "    ax.set_xlim(min(scan_rates) * 0.8 , max(scan_rates) * 1.5)\n",
    "    ax.set_xlabel('Scan rate (mV/s)', fontsize=24)\n",
    "    ax.set_ylabel(yaxis, fontsize=24)\n",
    "    ax.tick_params(which='both', labelsize=18, width=2, length=5)\n",
    "    ax.set_xscale('log')\n",
    "    ax.xaxis.set_major_formatter(mticker.ScalarFormatter())\n",
    "    ax.set_xticks(scan_rates)"
   ]
  },
  {
   "cell_type": "code",
   "execution_count": null,
   "id": "b4017add",
   "metadata": {},
   "outputs": [],
   "source": [
    "file_dict = create_file_dict(rootdir=rootdir, scan_rates=scan_rates)"
   ]
  },
  {
   "cell_type": "code",
   "execution_count": null,
   "id": "b28d3fe2",
   "metadata": {},
   "outputs": [],
   "source": [
    "data_dict = create_data_dict(file_dict=file_dict)"
   ]
  },
  {
   "cell_type": "code",
   "execution_count": null,
   "id": "0af7ec75",
   "metadata": {
    "code_folding": [
     0
    ]
   },
   "outputs": [],
   "source": [
    "def make_figure():\n",
    "    '''\n",
    "    Generates interactive figure using the plot_CVs_biologic function.\n",
    "    '''\n",
    "    yaxis_choice = widgets.Dropdown(description='yaxis:', options=normalization_options)\n",
    "    marker_choice = widgets.Dropdown(description='Markers:', options=markers)\n",
    "    marker_fill_choice = widgets.Dropdown(description='Marker fill:', options=marker_fill)\n",
    "    c_e = widgets.Checkbox(description='Coulombic Efficiency', indent=False)\n",
    "    color_picker = widgets.ColorPicker(concise=False, description='Pick a color', value='blue', disabled=False)\n",
    "\n",
    "    def on_button_clicked(b):\n",
    "        fig.savefig('rate_performance', bbox_inches='tight', transparent=True)\n",
    "\n",
    "    button = Button(description=\"Save Figure\")\n",
    "    button.on_click(on_button_clicked)\n",
    "\n",
    "    ui = VBox([HBox([yaxis_choice, marker_choice, c_e, button]), HBox([marker_fill_choice, color_picker])])\n",
    "\n",
    "    out = widgets.interactive_output(plot_rate_perf, \n",
    "                                     {'yaxis': yaxis_choice, \n",
    "                                      'markers': marker_choice, \n",
    "                                      'marker_fill': marker_fill_choice,\n",
    "                                      'color': color_picker,\n",
    "                                      'c_e': c_e})\n",
    "    display(ui, out)"
   ]
  },
  {
   "cell_type": "code",
   "execution_count": null,
   "id": "9116f083",
   "metadata": {},
   "outputs": [],
   "source": [
    "make_figure()"
   ]
  }
 ],
 "metadata": {
  "kernelspec": {
   "display_name": "Python 3 (ipykernel)",
   "language": "python",
   "name": "python3"
  },
  "language_info": {
   "codemirror_mode": {
    "name": "ipython",
    "version": 3
   },
   "file_extension": ".py",
   "mimetype": "text/x-python",
   "name": "python",
   "nbconvert_exporter": "python",
   "pygments_lexer": "ipython3",
   "version": "3.10.4"
  }
 },
 "nbformat": 4,
 "nbformat_minor": 5
}
